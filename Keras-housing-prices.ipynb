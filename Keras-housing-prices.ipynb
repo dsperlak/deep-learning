{
 "cells": [
  {
   "cell_type": "code",
   "execution_count": 1,
   "id": "370bae70",
   "metadata": {},
   "outputs": [],
   "source": [
    "import pandas as pd"
   ]
  },
  {
   "cell_type": "code",
   "execution_count": 3,
   "id": "6d73c6ef",
   "metadata": {},
   "outputs": [],
   "source": [
    "df = pd.read_csv('housepricedata.csv')"
   ]
  },
  {
   "cell_type": "code",
   "execution_count": 4,
   "id": "8092910a",
   "metadata": {},
   "outputs": [
    {
     "data": {
      "text/html": [
       "<div>\n",
       "<style scoped>\n",
       "    .dataframe tbody tr th:only-of-type {\n",
       "        vertical-align: middle;\n",
       "    }\n",
       "\n",
       "    .dataframe tbody tr th {\n",
       "        vertical-align: top;\n",
       "    }\n",
       "\n",
       "    .dataframe thead th {\n",
       "        text-align: right;\n",
       "    }\n",
       "</style>\n",
       "<table border=\"1\" class=\"dataframe\">\n",
       "  <thead>\n",
       "    <tr style=\"text-align: right;\">\n",
       "      <th></th>\n",
       "      <th>LotArea</th>\n",
       "      <th>OverallQual</th>\n",
       "      <th>OverallCond</th>\n",
       "      <th>TotalBsmtSF</th>\n",
       "      <th>FullBath</th>\n",
       "      <th>HalfBath</th>\n",
       "      <th>BedroomAbvGr</th>\n",
       "      <th>TotRmsAbvGrd</th>\n",
       "      <th>Fireplaces</th>\n",
       "      <th>GarageArea</th>\n",
       "      <th>AboveMedianPrice</th>\n",
       "    </tr>\n",
       "  </thead>\n",
       "  <tbody>\n",
       "    <tr>\n",
       "      <th>0</th>\n",
       "      <td>8450</td>\n",
       "      <td>7</td>\n",
       "      <td>5</td>\n",
       "      <td>856</td>\n",
       "      <td>2</td>\n",
       "      <td>1</td>\n",
       "      <td>3</td>\n",
       "      <td>8</td>\n",
       "      <td>0</td>\n",
       "      <td>548</td>\n",
       "      <td>1</td>\n",
       "    </tr>\n",
       "    <tr>\n",
       "      <th>1</th>\n",
       "      <td>9600</td>\n",
       "      <td>6</td>\n",
       "      <td>8</td>\n",
       "      <td>1262</td>\n",
       "      <td>2</td>\n",
       "      <td>0</td>\n",
       "      <td>3</td>\n",
       "      <td>6</td>\n",
       "      <td>1</td>\n",
       "      <td>460</td>\n",
       "      <td>1</td>\n",
       "    </tr>\n",
       "    <tr>\n",
       "      <th>2</th>\n",
       "      <td>11250</td>\n",
       "      <td>7</td>\n",
       "      <td>5</td>\n",
       "      <td>920</td>\n",
       "      <td>2</td>\n",
       "      <td>1</td>\n",
       "      <td>3</td>\n",
       "      <td>6</td>\n",
       "      <td>1</td>\n",
       "      <td>608</td>\n",
       "      <td>1</td>\n",
       "    </tr>\n",
       "    <tr>\n",
       "      <th>3</th>\n",
       "      <td>9550</td>\n",
       "      <td>7</td>\n",
       "      <td>5</td>\n",
       "      <td>756</td>\n",
       "      <td>1</td>\n",
       "      <td>0</td>\n",
       "      <td>3</td>\n",
       "      <td>7</td>\n",
       "      <td>1</td>\n",
       "      <td>642</td>\n",
       "      <td>0</td>\n",
       "    </tr>\n",
       "    <tr>\n",
       "      <th>4</th>\n",
       "      <td>14260</td>\n",
       "      <td>8</td>\n",
       "      <td>5</td>\n",
       "      <td>1145</td>\n",
       "      <td>2</td>\n",
       "      <td>1</td>\n",
       "      <td>4</td>\n",
       "      <td>9</td>\n",
       "      <td>1</td>\n",
       "      <td>836</td>\n",
       "      <td>1</td>\n",
       "    </tr>\n",
       "    <tr>\n",
       "      <th>...</th>\n",
       "      <td>...</td>\n",
       "      <td>...</td>\n",
       "      <td>...</td>\n",
       "      <td>...</td>\n",
       "      <td>...</td>\n",
       "      <td>...</td>\n",
       "      <td>...</td>\n",
       "      <td>...</td>\n",
       "      <td>...</td>\n",
       "      <td>...</td>\n",
       "      <td>...</td>\n",
       "    </tr>\n",
       "    <tr>\n",
       "      <th>1455</th>\n",
       "      <td>7917</td>\n",
       "      <td>6</td>\n",
       "      <td>5</td>\n",
       "      <td>953</td>\n",
       "      <td>2</td>\n",
       "      <td>1</td>\n",
       "      <td>3</td>\n",
       "      <td>7</td>\n",
       "      <td>1</td>\n",
       "      <td>460</td>\n",
       "      <td>1</td>\n",
       "    </tr>\n",
       "    <tr>\n",
       "      <th>1456</th>\n",
       "      <td>13175</td>\n",
       "      <td>6</td>\n",
       "      <td>6</td>\n",
       "      <td>1542</td>\n",
       "      <td>2</td>\n",
       "      <td>0</td>\n",
       "      <td>3</td>\n",
       "      <td>7</td>\n",
       "      <td>2</td>\n",
       "      <td>500</td>\n",
       "      <td>1</td>\n",
       "    </tr>\n",
       "    <tr>\n",
       "      <th>1457</th>\n",
       "      <td>9042</td>\n",
       "      <td>7</td>\n",
       "      <td>9</td>\n",
       "      <td>1152</td>\n",
       "      <td>2</td>\n",
       "      <td>0</td>\n",
       "      <td>4</td>\n",
       "      <td>9</td>\n",
       "      <td>2</td>\n",
       "      <td>252</td>\n",
       "      <td>1</td>\n",
       "    </tr>\n",
       "    <tr>\n",
       "      <th>1458</th>\n",
       "      <td>9717</td>\n",
       "      <td>5</td>\n",
       "      <td>6</td>\n",
       "      <td>1078</td>\n",
       "      <td>1</td>\n",
       "      <td>0</td>\n",
       "      <td>2</td>\n",
       "      <td>5</td>\n",
       "      <td>0</td>\n",
       "      <td>240</td>\n",
       "      <td>0</td>\n",
       "    </tr>\n",
       "    <tr>\n",
       "      <th>1459</th>\n",
       "      <td>9937</td>\n",
       "      <td>5</td>\n",
       "      <td>6</td>\n",
       "      <td>1256</td>\n",
       "      <td>1</td>\n",
       "      <td>1</td>\n",
       "      <td>3</td>\n",
       "      <td>6</td>\n",
       "      <td>0</td>\n",
       "      <td>276</td>\n",
       "      <td>0</td>\n",
       "    </tr>\n",
       "  </tbody>\n",
       "</table>\n",
       "<p>1460 rows × 11 columns</p>\n",
       "</div>"
      ],
      "text/plain": [
       "      LotArea  OverallQual  OverallCond  TotalBsmtSF  FullBath  HalfBath  \\\n",
       "0        8450            7            5          856         2         1   \n",
       "1        9600            6            8         1262         2         0   \n",
       "2       11250            7            5          920         2         1   \n",
       "3        9550            7            5          756         1         0   \n",
       "4       14260            8            5         1145         2         1   \n",
       "...       ...          ...          ...          ...       ...       ...   \n",
       "1455     7917            6            5          953         2         1   \n",
       "1456    13175            6            6         1542         2         0   \n",
       "1457     9042            7            9         1152         2         0   \n",
       "1458     9717            5            6         1078         1         0   \n",
       "1459     9937            5            6         1256         1         1   \n",
       "\n",
       "      BedroomAbvGr  TotRmsAbvGrd  Fireplaces  GarageArea  AboveMedianPrice  \n",
       "0                3             8           0         548                 1  \n",
       "1                3             6           1         460                 1  \n",
       "2                3             6           1         608                 1  \n",
       "3                3             7           1         642                 0  \n",
       "4                4             9           1         836                 1  \n",
       "...            ...           ...         ...         ...               ...  \n",
       "1455             3             7           1         460                 1  \n",
       "1456             3             7           2         500                 1  \n",
       "1457             4             9           2         252                 1  \n",
       "1458             2             5           0         240                 0  \n",
       "1459             3             6           0         276                 0  \n",
       "\n",
       "[1460 rows x 11 columns]"
      ]
     },
     "execution_count": 4,
     "metadata": {},
     "output_type": "execute_result"
    }
   ],
   "source": [
    "df"
   ]
  },
  {
   "cell_type": "code",
   "execution_count": 5,
   "id": "c5fcb7bb",
   "metadata": {},
   "outputs": [],
   "source": [
    "dataset = df.values"
   ]
  },
  {
   "cell_type": "code",
   "execution_count": 6,
   "id": "ab72e5e8",
   "metadata": {},
   "outputs": [
    {
     "data": {
      "text/plain": [
       "array([[ 8450,     7,     5, ...,     0,   548,     1],\n",
       "       [ 9600,     6,     8, ...,     1,   460,     1],\n",
       "       [11250,     7,     5, ...,     1,   608,     1],\n",
       "       ...,\n",
       "       [ 9042,     7,     9, ...,     2,   252,     1],\n",
       "       [ 9717,     5,     6, ...,     0,   240,     0],\n",
       "       [ 9937,     5,     6, ...,     0,   276,     0]], dtype=int64)"
      ]
     },
     "execution_count": 6,
     "metadata": {},
     "output_type": "execute_result"
    }
   ],
   "source": [
    "dataset"
   ]
  },
  {
   "cell_type": "code",
   "execution_count": 7,
   "id": "52ccee36",
   "metadata": {},
   "outputs": [],
   "source": [
    "X = dataset[:,0:10]"
   ]
  },
  {
   "cell_type": "code",
   "execution_count": 8,
   "id": "42db3986",
   "metadata": {},
   "outputs": [],
   "source": [
    "Y = dataset[:,10]"
   ]
  },
  {
   "cell_type": "code",
   "execution_count": 9,
   "id": "24a678db",
   "metadata": {},
   "outputs": [],
   "source": [
    "from sklearn import preprocessing"
   ]
  },
  {
   "cell_type": "code",
   "execution_count": 10,
   "id": "e83113c4",
   "metadata": {},
   "outputs": [],
   "source": [
    "min_max_scaler = preprocessing.MinMaxScaler()\n",
    "X_scale = min_max_scaler.fit_transform(X)"
   ]
  },
  {
   "cell_type": "code",
   "execution_count": 11,
   "id": "c69c7c96",
   "metadata": {},
   "outputs": [
    {
     "data": {
      "text/plain": [
       "array([[0.0334198 , 0.66666667, 0.5       , ..., 0.5       , 0.        ,\n",
       "        0.3864598 ],\n",
       "       [0.03879502, 0.55555556, 0.875     , ..., 0.33333333, 0.33333333,\n",
       "        0.32440056],\n",
       "       [0.04650728, 0.66666667, 0.5       , ..., 0.33333333, 0.33333333,\n",
       "        0.42877292],\n",
       "       ...,\n",
       "       [0.03618687, 0.66666667, 1.        , ..., 0.58333333, 0.66666667,\n",
       "        0.17771509],\n",
       "       [0.03934189, 0.44444444, 0.625     , ..., 0.25      , 0.        ,\n",
       "        0.16925247],\n",
       "       [0.04037019, 0.44444444, 0.625     , ..., 0.33333333, 0.        ,\n",
       "        0.19464034]])"
      ]
     },
     "execution_count": 11,
     "metadata": {},
     "output_type": "execute_result"
    }
   ],
   "source": [
    "X_scale"
   ]
  },
  {
   "cell_type": "code",
   "execution_count": 12,
   "id": "1fd113d5",
   "metadata": {},
   "outputs": [],
   "source": [
    "from sklearn.model_selection import train_test_split"
   ]
  },
  {
   "cell_type": "code",
   "execution_count": 13,
   "id": "25430b34",
   "metadata": {},
   "outputs": [],
   "source": [
    "X_train, X_val_and_test, Y_train, Y_val_and_test = train_test_split(X_scale, Y, test_size=0.3)"
   ]
  },
  {
   "cell_type": "code",
   "execution_count": 14,
   "id": "113e1659",
   "metadata": {},
   "outputs": [],
   "source": [
    "X_val, X_test, Y_val, Y_test = train_test_split(X_val_and_test, Y_val_and_test, test_size=0.5)"
   ]
  },
  {
   "cell_type": "code",
   "execution_count": 15,
   "id": "02120e93",
   "metadata": {},
   "outputs": [
    {
     "name": "stdout",
     "output_type": "stream",
     "text": [
      "(1022, 10) (219, 10) (219, 10) (1022,) (219,) (219,)\n"
     ]
    }
   ],
   "source": [
    "print(X_train.shape, X_val.shape, X_test.shape, Y_train.shape, Y_val.shape, Y_test.shape)"
   ]
  },
  {
   "cell_type": "code",
   "execution_count": 16,
   "id": "3bdaa2bd",
   "metadata": {},
   "outputs": [],
   "source": [
    "from keras.models import Sequential\n",
    "from keras.layers import Dense"
   ]
  },
  {
   "cell_type": "code",
   "execution_count": 17,
   "id": "069e14d1",
   "metadata": {},
   "outputs": [],
   "source": [
    "model = Sequential([\n",
    "    Dense(32, activation='relu', input_shape=(10,)),\n",
    "    Dense(32, activation='relu'),\n",
    "    Dense(1, activation='sigmoid'),\n",
    "])"
   ]
  },
  {
   "cell_type": "code",
   "execution_count": 18,
   "id": "6b59f824",
   "metadata": {},
   "outputs": [
    {
     "data": {
      "text/plain": [
       "(<keras.layers.core.dense.Dense at 0x22c20692070>,)"
      ]
     },
     "execution_count": 18,
     "metadata": {},
     "output_type": "execute_result"
    }
   ],
   "source": [
    "Dense(32, activation='relu', input_shape=(10,)),"
   ]
  },
  {
   "cell_type": "code",
   "execution_count": 19,
   "id": "24f8f6ce",
   "metadata": {},
   "outputs": [
    {
     "data": {
      "text/plain": [
       "(<keras.layers.core.dense.Dense at 0x22c18317be0>,)"
      ]
     },
     "execution_count": 19,
     "metadata": {},
     "output_type": "execute_result"
    }
   ],
   "source": [
    "Dense(32, activation='relu'),"
   ]
  },
  {
   "cell_type": "code",
   "execution_count": 21,
   "id": "5b8d5c54",
   "metadata": {},
   "outputs": [
    {
     "data": {
      "text/plain": [
       "(<keras.layers.core.dense.Dense at 0x22c20699070>,)"
      ]
     },
     "execution_count": 21,
     "metadata": {},
     "output_type": "execute_result"
    }
   ],
   "source": [
    "Dense(1, activation='sigmoid'),"
   ]
  },
  {
   "cell_type": "code",
   "execution_count": 22,
   "id": "078b433e",
   "metadata": {},
   "outputs": [],
   "source": [
    "model.compile(optimizer='sgd',\n",
    "              loss='binary_crossentropy',\n",
    "              metrics=['accuracy'])"
   ]
  },
  {
   "cell_type": "code",
   "execution_count": 23,
   "id": "bf3e05b5",
   "metadata": {},
   "outputs": [],
   "source": [
    "optimizer='sgd'"
   ]
  },
  {
   "cell_type": "code",
   "execution_count": 24,
   "id": "0c904b10",
   "metadata": {},
   "outputs": [],
   "source": [
    "loss='binary_crossentropy'"
   ]
  },
  {
   "cell_type": "code",
   "execution_count": 25,
   "id": "062ad4f9",
   "metadata": {},
   "outputs": [],
   "source": [
    "metrics=['accuracy']"
   ]
  },
  {
   "cell_type": "code",
   "execution_count": 26,
   "id": "676fb9ed",
   "metadata": {},
   "outputs": [
    {
     "name": "stdout",
     "output_type": "stream",
     "text": [
      "Epoch 1/100\n",
      "32/32 [==============================] - 1s 7ms/step - loss: 0.6923 - accuracy: 0.4922 - val_loss: 0.6838 - val_accuracy: 0.6073\n",
      "Epoch 2/100\n",
      "32/32 [==============================] - 0s 1ms/step - loss: 0.6838 - accuracy: 0.5861 - val_loss: 0.6771 - val_accuracy: 0.5890\n",
      "Epoch 3/100\n",
      "32/32 [==============================] - 0s 1ms/step - loss: 0.6771 - accuracy: 0.5783 - val_loss: 0.6714 - val_accuracy: 0.6027\n",
      "Epoch 4/100\n",
      "32/32 [==============================] - 0s 1ms/step - loss: 0.6710 - accuracy: 0.6282 - val_loss: 0.6659 - val_accuracy: 0.5799\n",
      "Epoch 5/100\n",
      "32/32 [==============================] - 0s 1ms/step - loss: 0.6654 - accuracy: 0.6067 - val_loss: 0.6608 - val_accuracy: 0.6119\n",
      "Epoch 6/100\n",
      "32/32 [==============================] - 0s 1ms/step - loss: 0.6597 - accuracy: 0.6458 - val_loss: 0.6555 - val_accuracy: 0.6667\n",
      "Epoch 7/100\n",
      "32/32 [==============================] - 0s 1ms/step - loss: 0.6541 - accuracy: 0.6967 - val_loss: 0.6501 - val_accuracy: 0.6895\n",
      "Epoch 8/100\n",
      "32/32 [==============================] - 0s 1ms/step - loss: 0.6482 - accuracy: 0.6879 - val_loss: 0.6445 - val_accuracy: 0.7534\n",
      "Epoch 9/100\n",
      "32/32 [==============================] - 0s 2ms/step - loss: 0.6419 - accuracy: 0.7153 - val_loss: 0.6388 - val_accuracy: 0.7854\n",
      "Epoch 10/100\n",
      "32/32 [==============================] - 0s 1ms/step - loss: 0.6357 - accuracy: 0.7348 - val_loss: 0.6330 - val_accuracy: 0.7900\n",
      "Epoch 11/100\n",
      "32/32 [==============================] - 0s 1ms/step - loss: 0.6292 - accuracy: 0.7701 - val_loss: 0.6269 - val_accuracy: 0.7854\n",
      "Epoch 12/100\n",
      "32/32 [==============================] - 0s 2ms/step - loss: 0.6228 - accuracy: 0.7642 - val_loss: 0.6208 - val_accuracy: 0.7900\n",
      "Epoch 13/100\n",
      "32/32 [==============================] - 0s 2ms/step - loss: 0.6160 - accuracy: 0.7750 - val_loss: 0.6146 - val_accuracy: 0.8037\n",
      "Epoch 14/100\n",
      "32/32 [==============================] - 0s 2ms/step - loss: 0.6092 - accuracy: 0.7926 - val_loss: 0.6081 - val_accuracy: 0.8128\n",
      "Epoch 15/100\n",
      "32/32 [==============================] - 0s 1ms/step - loss: 0.6021 - accuracy: 0.8082 - val_loss: 0.6013 - val_accuracy: 0.8128\n",
      "Epoch 16/100\n",
      "32/32 [==============================] - 0s 1ms/step - loss: 0.5949 - accuracy: 0.7994 - val_loss: 0.5945 - val_accuracy: 0.8128\n",
      "Epoch 17/100\n",
      "32/32 [==============================] - 0s 1ms/step - loss: 0.5873 - accuracy: 0.8229 - val_loss: 0.5873 - val_accuracy: 0.8265\n",
      "Epoch 18/100\n",
      "32/32 [==============================] - 0s 1ms/step - loss: 0.5796 - accuracy: 0.8180 - val_loss: 0.5801 - val_accuracy: 0.8356\n",
      "Epoch 19/100\n",
      "32/32 [==============================] - 0s 1ms/step - loss: 0.5717 - accuracy: 0.8337 - val_loss: 0.5726 - val_accuracy: 0.8447\n",
      "Epoch 20/100\n",
      "32/32 [==============================] - 0s 1ms/step - loss: 0.5632 - accuracy: 0.8366 - val_loss: 0.5649 - val_accuracy: 0.8311\n",
      "Epoch 21/100\n",
      "32/32 [==============================] - 0s 1ms/step - loss: 0.5548 - accuracy: 0.8474 - val_loss: 0.5570 - val_accuracy: 0.8311\n",
      "Epoch 22/100\n",
      "32/32 [==============================] - 0s 1ms/step - loss: 0.5461 - accuracy: 0.8513 - val_loss: 0.5488 - val_accuracy: 0.8356\n",
      "Epoch 23/100\n",
      "32/32 [==============================] - 0s 2ms/step - loss: 0.5372 - accuracy: 0.8483 - val_loss: 0.5406 - val_accuracy: 0.8402\n",
      "Epoch 24/100\n",
      "32/32 [==============================] - 0s 1ms/step - loss: 0.5282 - accuracy: 0.8552 - val_loss: 0.5323 - val_accuracy: 0.8447\n",
      "Epoch 25/100\n",
      "32/32 [==============================] - 0s 1ms/step - loss: 0.5189 - accuracy: 0.8571 - val_loss: 0.5237 - val_accuracy: 0.8402\n",
      "Epoch 26/100\n",
      "32/32 [==============================] - 0s 1ms/step - loss: 0.5097 - accuracy: 0.8562 - val_loss: 0.5156 - val_accuracy: 0.8584\n",
      "Epoch 27/100\n",
      "32/32 [==============================] - 0s 1ms/step - loss: 0.5006 - accuracy: 0.8542 - val_loss: 0.5079 - val_accuracy: 0.8630\n",
      "Epoch 28/100\n",
      "32/32 [==============================] - 0s 1ms/step - loss: 0.4915 - accuracy: 0.8620 - val_loss: 0.4990 - val_accuracy: 0.8630\n",
      "Epoch 29/100\n",
      "32/32 [==============================] - 0s 1ms/step - loss: 0.4820 - accuracy: 0.8689 - val_loss: 0.4905 - val_accuracy: 0.8630\n",
      "Epoch 30/100\n",
      "32/32 [==============================] - 0s 2ms/step - loss: 0.4727 - accuracy: 0.8669 - val_loss: 0.4818 - val_accuracy: 0.8630\n",
      "Epoch 31/100\n",
      "32/32 [==============================] - 0s 2ms/step - loss: 0.4630 - accuracy: 0.8640 - val_loss: 0.4730 - val_accuracy: 0.8630\n",
      "Epoch 32/100\n",
      "32/32 [==============================] - 0s 2ms/step - loss: 0.4532 - accuracy: 0.8669 - val_loss: 0.4654 - val_accuracy: 0.8676\n",
      "Epoch 33/100\n",
      "32/32 [==============================] - 0s 1ms/step - loss: 0.4442 - accuracy: 0.8669 - val_loss: 0.4576 - val_accuracy: 0.8676\n",
      "Epoch 34/100\n",
      "32/32 [==============================] - 0s 1ms/step - loss: 0.4355 - accuracy: 0.8669 - val_loss: 0.4488 - val_accuracy: 0.8676\n",
      "Epoch 35/100\n",
      "32/32 [==============================] - 0s 1ms/step - loss: 0.4268 - accuracy: 0.8699 - val_loss: 0.4412 - val_accuracy: 0.8676\n",
      "Epoch 36/100\n",
      "32/32 [==============================] - 0s 1ms/step - loss: 0.4186 - accuracy: 0.8748 - val_loss: 0.4350 - val_accuracy: 0.8676\n",
      "Epoch 37/100\n",
      "32/32 [==============================] - 0s 1ms/step - loss: 0.4107 - accuracy: 0.8728 - val_loss: 0.4287 - val_accuracy: 0.8676\n",
      "Epoch 38/100\n",
      "32/32 [==============================] - 0s 1ms/step - loss: 0.4033 - accuracy: 0.8699 - val_loss: 0.4206 - val_accuracy: 0.8584\n",
      "Epoch 39/100\n",
      "32/32 [==============================] - 0s 1ms/step - loss: 0.3964 - accuracy: 0.8728 - val_loss: 0.4159 - val_accuracy: 0.8676\n",
      "Epoch 40/100\n",
      "32/32 [==============================] - 0s 1ms/step - loss: 0.3900 - accuracy: 0.8728 - val_loss: 0.4099 - val_accuracy: 0.8584\n",
      "Epoch 41/100\n",
      "32/32 [==============================] - 0s 1ms/step - loss: 0.3837 - accuracy: 0.8767 - val_loss: 0.4050 - val_accuracy: 0.8584\n",
      "Epoch 42/100\n",
      "32/32 [==============================] - 0s 1ms/step - loss: 0.3776 - accuracy: 0.8738 - val_loss: 0.4002 - val_accuracy: 0.8584\n",
      "Epoch 43/100\n",
      "32/32 [==============================] - 0s 1ms/step - loss: 0.3719 - accuracy: 0.8796 - val_loss: 0.3953 - val_accuracy: 0.8539\n",
      "Epoch 44/100\n",
      "32/32 [==============================] - 0s 1ms/step - loss: 0.3666 - accuracy: 0.8796 - val_loss: 0.3908 - val_accuracy: 0.8356\n",
      "Epoch 45/100\n",
      "32/32 [==============================] - 0s 2ms/step - loss: 0.3618 - accuracy: 0.8748 - val_loss: 0.3898 - val_accuracy: 0.8676\n",
      "Epoch 46/100\n",
      "32/32 [==============================] - 0s 1ms/step - loss: 0.3571 - accuracy: 0.8748 - val_loss: 0.3852 - val_accuracy: 0.8630\n",
      "Epoch 47/100\n",
      "32/32 [==============================] - 0s 1ms/step - loss: 0.3530 - accuracy: 0.8787 - val_loss: 0.3819 - val_accuracy: 0.8630\n",
      "Epoch 48/100\n",
      "32/32 [==============================] - 0s 1ms/step - loss: 0.3484 - accuracy: 0.8777 - val_loss: 0.3802 - val_accuracy: 0.8630\n",
      "Epoch 49/100\n",
      "32/32 [==============================] - 0s 1ms/step - loss: 0.3451 - accuracy: 0.8767 - val_loss: 0.3760 - val_accuracy: 0.8584\n",
      "Epoch 50/100\n",
      "32/32 [==============================] - 0s 1ms/step - loss: 0.3413 - accuracy: 0.8806 - val_loss: 0.3750 - val_accuracy: 0.8584\n",
      "Epoch 51/100\n",
      "32/32 [==============================] - 0s 1ms/step - loss: 0.3378 - accuracy: 0.8826 - val_loss: 0.3723 - val_accuracy: 0.8584\n",
      "Epoch 52/100\n",
      "32/32 [==============================] - 0s 1ms/step - loss: 0.3348 - accuracy: 0.8826 - val_loss: 0.3687 - val_accuracy: 0.8447\n",
      "Epoch 53/100\n",
      "32/32 [==============================] - 0s 1ms/step - loss: 0.3317 - accuracy: 0.8806 - val_loss: 0.3673 - val_accuracy: 0.8539\n",
      "Epoch 54/100\n",
      "32/32 [==============================] - 0s 1ms/step - loss: 0.3286 - accuracy: 0.8845 - val_loss: 0.3651 - val_accuracy: 0.8447\n",
      "Epoch 55/100\n",
      "32/32 [==============================] - 0s 1ms/step - loss: 0.3259 - accuracy: 0.8806 - val_loss: 0.3633 - val_accuracy: 0.8447\n",
      "Epoch 56/100\n",
      "32/32 [==============================] - 0s 1ms/step - loss: 0.3235 - accuracy: 0.8845 - val_loss: 0.3616 - val_accuracy: 0.8447\n",
      "Epoch 57/100\n",
      "32/32 [==============================] - 0s 1ms/step - loss: 0.3205 - accuracy: 0.8826 - val_loss: 0.3588 - val_accuracy: 0.8356\n",
      "Epoch 58/100\n",
      "32/32 [==============================] - 0s 1ms/step - loss: 0.3187 - accuracy: 0.8836 - val_loss: 0.3587 - val_accuracy: 0.8493\n"
     ]
    },
    {
     "name": "stdout",
     "output_type": "stream",
     "text": [
      "Epoch 59/100\n",
      "32/32 [==============================] - 0s 1ms/step - loss: 0.3165 - accuracy: 0.8826 - val_loss: 0.3568 - val_accuracy: 0.8493\n",
      "Epoch 60/100\n",
      "32/32 [==============================] - 0s 1ms/step - loss: 0.3142 - accuracy: 0.8826 - val_loss: 0.3570 - val_accuracy: 0.8539\n",
      "Epoch 61/100\n",
      "32/32 [==============================] - 0s 1ms/step - loss: 0.3126 - accuracy: 0.8845 - val_loss: 0.3548 - val_accuracy: 0.8493\n",
      "Epoch 62/100\n",
      "32/32 [==============================] - 0s 1ms/step - loss: 0.3111 - accuracy: 0.8816 - val_loss: 0.3537 - val_accuracy: 0.8493\n",
      "Epoch 63/100\n",
      "32/32 [==============================] - 0s 1ms/step - loss: 0.3089 - accuracy: 0.8836 - val_loss: 0.3530 - val_accuracy: 0.8493\n",
      "Epoch 64/100\n",
      "32/32 [==============================] - 0s 1ms/step - loss: 0.3075 - accuracy: 0.8826 - val_loss: 0.3499 - val_accuracy: 0.8493\n",
      "Epoch 65/100\n",
      "32/32 [==============================] - 0s 1ms/step - loss: 0.3059 - accuracy: 0.8826 - val_loss: 0.3491 - val_accuracy: 0.8493\n",
      "Epoch 66/100\n",
      "32/32 [==============================] - 0s 1ms/step - loss: 0.3043 - accuracy: 0.8845 - val_loss: 0.3480 - val_accuracy: 0.8493\n",
      "Epoch 67/100\n",
      "32/32 [==============================] - 0s 1ms/step - loss: 0.3031 - accuracy: 0.8855 - val_loss: 0.3478 - val_accuracy: 0.8493\n",
      "Epoch 68/100\n",
      "32/32 [==============================] - 0s 1ms/step - loss: 0.3020 - accuracy: 0.8826 - val_loss: 0.3461 - val_accuracy: 0.8493\n",
      "Epoch 69/100\n",
      "32/32 [==============================] - 0s 1ms/step - loss: 0.3004 - accuracy: 0.8836 - val_loss: 0.3463 - val_accuracy: 0.8493\n",
      "Epoch 70/100\n",
      "32/32 [==============================] - 0s 1ms/step - loss: 0.2989 - accuracy: 0.8826 - val_loss: 0.3456 - val_accuracy: 0.8493\n",
      "Epoch 71/100\n",
      "32/32 [==============================] - 0s 1ms/step - loss: 0.2980 - accuracy: 0.8855 - val_loss: 0.3428 - val_accuracy: 0.8447\n",
      "Epoch 72/100\n",
      "32/32 [==============================] - 0s 1ms/step - loss: 0.2972 - accuracy: 0.8826 - val_loss: 0.3433 - val_accuracy: 0.8493\n",
      "Epoch 73/100\n",
      "32/32 [==============================] - 0s 1ms/step - loss: 0.2962 - accuracy: 0.8865 - val_loss: 0.3416 - val_accuracy: 0.8447\n",
      "Epoch 74/100\n",
      "32/32 [==============================] - 0s 1ms/step - loss: 0.2945 - accuracy: 0.8845 - val_loss: 0.3437 - val_accuracy: 0.8493\n",
      "Epoch 75/100\n",
      "32/32 [==============================] - 0s 1ms/step - loss: 0.2940 - accuracy: 0.8894 - val_loss: 0.3400 - val_accuracy: 0.8447\n",
      "Epoch 76/100\n",
      "32/32 [==============================] - 0s 1ms/step - loss: 0.2930 - accuracy: 0.8845 - val_loss: 0.3386 - val_accuracy: 0.8539\n",
      "Epoch 77/100\n",
      "32/32 [==============================] - 0s 1ms/step - loss: 0.2925 - accuracy: 0.8855 - val_loss: 0.3410 - val_accuracy: 0.8447\n",
      "Epoch 78/100\n",
      "32/32 [==============================] - 0s 1ms/step - loss: 0.2912 - accuracy: 0.8865 - val_loss: 0.3384 - val_accuracy: 0.8447\n",
      "Epoch 79/100\n",
      "32/32 [==============================] - 0s 1ms/step - loss: 0.2906 - accuracy: 0.8894 - val_loss: 0.3369 - val_accuracy: 0.8493\n",
      "Epoch 80/100\n",
      "32/32 [==============================] - 0s 1ms/step - loss: 0.2907 - accuracy: 0.8865 - val_loss: 0.3358 - val_accuracy: 0.8539\n",
      "Epoch 81/100\n",
      "32/32 [==============================] - 0s 1ms/step - loss: 0.2893 - accuracy: 0.8855 - val_loss: 0.3367 - val_accuracy: 0.8493\n",
      "Epoch 82/100\n",
      "32/32 [==============================] - 0s 1ms/step - loss: 0.2884 - accuracy: 0.8875 - val_loss: 0.3345 - val_accuracy: 0.8539\n",
      "Epoch 83/100\n",
      "32/32 [==============================] - 0s 1ms/step - loss: 0.2879 - accuracy: 0.8826 - val_loss: 0.3339 - val_accuracy: 0.8539\n",
      "Epoch 84/100\n",
      "32/32 [==============================] - 0s 1ms/step - loss: 0.2867 - accuracy: 0.8885 - val_loss: 0.3341 - val_accuracy: 0.8447\n",
      "Epoch 85/100\n",
      "32/32 [==============================] - 0s 1ms/step - loss: 0.2860 - accuracy: 0.8904 - val_loss: 0.3341 - val_accuracy: 0.8493\n",
      "Epoch 86/100\n",
      "32/32 [==============================] - 0s 1ms/step - loss: 0.2854 - accuracy: 0.8885 - val_loss: 0.3336 - val_accuracy: 0.8493\n",
      "Epoch 87/100\n",
      "32/32 [==============================] - 0s 1ms/step - loss: 0.2845 - accuracy: 0.8875 - val_loss: 0.3337 - val_accuracy: 0.8402\n",
      "Epoch 88/100\n",
      "32/32 [==============================] - 0s 1ms/step - loss: 0.2842 - accuracy: 0.8904 - val_loss: 0.3316 - val_accuracy: 0.8447\n",
      "Epoch 89/100\n",
      "32/32 [==============================] - 0s 1ms/step - loss: 0.2831 - accuracy: 0.8894 - val_loss: 0.3333 - val_accuracy: 0.8447\n",
      "Epoch 90/100\n",
      "32/32 [==============================] - 0s 1ms/step - loss: 0.2826 - accuracy: 0.8914 - val_loss: 0.3311 - val_accuracy: 0.8447\n",
      "Epoch 91/100\n",
      "32/32 [==============================] - 0s 1ms/step - loss: 0.2826 - accuracy: 0.8943 - val_loss: 0.3293 - val_accuracy: 0.8493\n",
      "Epoch 92/100\n",
      "32/32 [==============================] - 0s 1ms/step - loss: 0.2813 - accuracy: 0.8885 - val_loss: 0.3310 - val_accuracy: 0.8402\n",
      "Epoch 93/100\n",
      "32/32 [==============================] - 0s 1ms/step - loss: 0.2810 - accuracy: 0.8894 - val_loss: 0.3295 - val_accuracy: 0.8402\n",
      "Epoch 94/100\n",
      "32/32 [==============================] - 0s 1ms/step - loss: 0.2801 - accuracy: 0.8885 - val_loss: 0.3283 - val_accuracy: 0.8447\n",
      "Epoch 95/100\n",
      "32/32 [==============================] - 0s 2ms/step - loss: 0.2795 - accuracy: 0.8914 - val_loss: 0.3266 - val_accuracy: 0.8539\n",
      "Epoch 96/100\n",
      "32/32 [==============================] - 0s 1ms/step - loss: 0.2796 - accuracy: 0.8914 - val_loss: 0.3276 - val_accuracy: 0.8402\n",
      "Epoch 97/100\n",
      "32/32 [==============================] - 0s 1ms/step - loss: 0.2781 - accuracy: 0.8943 - val_loss: 0.3258 - val_accuracy: 0.8539\n",
      "Epoch 98/100\n",
      "32/32 [==============================] - 0s 1ms/step - loss: 0.2784 - accuracy: 0.8904 - val_loss: 0.3269 - val_accuracy: 0.8402\n",
      "Epoch 99/100\n",
      "32/32 [==============================] - 0s 1ms/step - loss: 0.2779 - accuracy: 0.8885 - val_loss: 0.3283 - val_accuracy: 0.8447\n",
      "Epoch 100/100\n",
      "32/32 [==============================] - 0s 1ms/step - loss: 0.2776 - accuracy: 0.8963 - val_loss: 0.3246 - val_accuracy: 0.8447\n"
     ]
    }
   ],
   "source": [
    "hist = model.fit(X_train, Y_train,\n",
    "          batch_size=32, epochs=100,\n",
    "          validation_data=(X_val, Y_val))"
   ]
  },
  {
   "cell_type": "code",
   "execution_count": 27,
   "id": "efb85eae",
   "metadata": {},
   "outputs": [
    {
     "name": "stdout",
     "output_type": "stream",
     "text": [
      "7/7 [==============================] - 0s 997us/step - loss: 0.2493 - accuracy: 0.8950\n"
     ]
    },
    {
     "data": {
      "text/plain": [
       "0.8949771523475647"
      ]
     },
     "execution_count": 27,
     "metadata": {},
     "output_type": "execute_result"
    }
   ],
   "source": [
    "model.evaluate(X_test, Y_test)[1]"
   ]
  },
  {
   "cell_type": "code",
   "execution_count": 28,
   "id": "17ac1b84",
   "metadata": {},
   "outputs": [],
   "source": [
    "import matplotlib.pyplot as plt"
   ]
  },
  {
   "cell_type": "code",
   "execution_count": 29,
   "id": "580dc05b",
   "metadata": {},
   "outputs": [
    {
     "data": {
      "image/png": "[encoded data removed]",
      "text/plain": [
       "<Figure size 432x288 with 1 Axes>"
      ]
     },
     "metadata": {
      "needs_background": "light"
     },
     "output_type": "display_data"
    }
   ],
   "source": [
    "plt.plot(hist.history['loss'])\n",
    "plt.plot(hist.history['val_loss'])\n",
    "plt.title('Model loss')\n",
    "plt.ylabel('Loss')\n",
    "plt.xlabel('Epoch')\n",
    "plt.legend(['Train', 'Val'], loc='upper right')\n",
    "plt.show()"
   ]
  },
  {
   "cell_type": "code",
   "execution_count": 32,
   "id": "f4b4dc6d",
   "metadata": {},
   "outputs": [
    {
     "data": {
      "image/png": "[encoded data removed]",
      "text/plain": [
       "<Figure size 432x288 with 1 Axes>"
      ]
     },
     "metadata": {
      "needs_background": "light"
     },
     "output_type": "display_data"
    }
   ],
   "source": [
    "plt.plot(hist.history['accuracy'])\n",
    "plt.plot(hist.history['val_accuracy'])\n",
    "plt.title('Model accuracy')\n",
    "plt.ylabel('Accuracy')\n",
    "plt.xlabel('Epoch')\n",
    "plt.legend(['Train', 'Val'], loc='lower right')\n",
    "plt.show()"
   ]
  },
  {
   "cell_type": "code",
   "execution_count": 33,
   "id": "5c5a86d6",
   "metadata": {},
   "outputs": [
    {
     "name": "stdout",
     "output_type": "stream",
     "text": [
      "Epoch 1/100\n",
      "32/32 [==============================] - 1s 19ms/step - loss: 0.4551 - accuracy: 0.7798 - val_loss: 0.4621 - val_accuracy: 0.8219\n",
      "Epoch 2/100\n",
      "32/32 [==============================] - 1s 16ms/step - loss: 0.3588 - accuracy: 0.8532 - val_loss: 0.4708 - val_accuracy: 0.7626\n",
      "Epoch 3/100\n",
      "32/32 [==============================] - 1s 16ms/step - loss: 0.3216 - accuracy: 0.8659 - val_loss: 0.3307 - val_accuracy: 0.8721\n",
      "Epoch 4/100\n",
      "32/32 [==============================] - 1s 17ms/step - loss: 0.2959 - accuracy: 0.8738 - val_loss: 0.3070 - val_accuracy: 0.8676\n",
      "Epoch 5/100\n",
      "32/32 [==============================] - 1s 17ms/step - loss: 0.2633 - accuracy: 0.8933 - val_loss: 0.2784 - val_accuracy: 0.9041\n",
      "Epoch 6/100\n",
      "32/32 [==============================] - 1s 16ms/step - loss: 0.2669 - accuracy: 0.8933 - val_loss: 0.3667 - val_accuracy: 0.8402\n",
      "Epoch 7/100\n",
      "32/32 [==============================] - 1s 17ms/step - loss: 0.2785 - accuracy: 0.8924 - val_loss: 0.3032 - val_accuracy: 0.8813\n",
      "Epoch 8/100\n",
      "32/32 [==============================] - 1s 16ms/step - loss: 0.2543 - accuracy: 0.8953 - val_loss: 0.2735 - val_accuracy: 0.8767\n",
      "Epoch 9/100\n",
      "32/32 [==============================] - 1s 17ms/step - loss: 0.2490 - accuracy: 0.8992 - val_loss: 0.2987 - val_accuracy: 0.8767\n",
      "Epoch 10/100\n",
      "32/32 [==============================] - 1s 16ms/step - loss: 0.2413 - accuracy: 0.9070 - val_loss: 0.2841 - val_accuracy: 0.8858\n",
      "Epoch 11/100\n",
      "32/32 [==============================] - 1s 16ms/step - loss: 0.2409 - accuracy: 0.9090 - val_loss: 0.2785 - val_accuracy: 0.8721\n",
      "Epoch 12/100\n",
      "32/32 [==============================] - 1s 16ms/step - loss: 0.2433 - accuracy: 0.8914 - val_loss: 0.2507 - val_accuracy: 0.8904\n",
      "Epoch 13/100\n",
      "32/32 [==============================] - 1s 16ms/step - loss: 0.2349 - accuracy: 0.9041 - val_loss: 0.2494 - val_accuracy: 0.8904\n",
      "Epoch 14/100\n",
      "32/32 [==============================] - 1s 16ms/step - loss: 0.2295 - accuracy: 0.9051 - val_loss: 0.2864 - val_accuracy: 0.8813\n",
      "Epoch 15/100\n",
      "32/32 [==============================] - 1s 16ms/step - loss: 0.2248 - accuracy: 0.9159 - val_loss: 0.2425 - val_accuracy: 0.8950\n",
      "Epoch 16/100\n",
      "32/32 [==============================] - 0s 16ms/step - loss: 0.2402 - accuracy: 0.9080 - val_loss: 0.2429 - val_accuracy: 0.8858\n",
      "Epoch 17/100\n",
      "32/32 [==============================] - 1s 16ms/step - loss: 0.2418 - accuracy: 0.9002 - val_loss: 0.2545 - val_accuracy: 0.8904\n",
      "Epoch 18/100\n",
      "32/32 [==============================] - 1s 16ms/step - loss: 0.2133 - accuracy: 0.9207 - val_loss: 0.2417 - val_accuracy: 0.8767\n",
      "Epoch 19/100\n",
      "32/32 [==============================] - 1s 16ms/step - loss: 0.2099 - accuracy: 0.9159 - val_loss: 0.2459 - val_accuracy: 0.9087\n",
      "Epoch 20/100\n",
      "32/32 [==============================] - 1s 16ms/step - loss: 0.2250 - accuracy: 0.9051 - val_loss: 0.2583 - val_accuracy: 0.8858\n",
      "Epoch 21/100\n",
      "32/32 [==============================] - 1s 16ms/step - loss: 0.2121 - accuracy: 0.9100 - val_loss: 0.2507 - val_accuracy: 0.8858\n",
      "Epoch 22/100\n",
      "32/32 [==============================] - 1s 16ms/step - loss: 0.2000 - accuracy: 0.9159 - val_loss: 0.2536 - val_accuracy: 0.8858\n",
      "Epoch 23/100\n",
      "32/32 [==============================] - 1s 16ms/step - loss: 0.2121 - accuracy: 0.9119 - val_loss: 0.2624 - val_accuracy: 0.8813\n",
      "Epoch 24/100\n",
      "32/32 [==============================] - 1s 16ms/step - loss: 0.2032 - accuracy: 0.9188 - val_loss: 0.2338 - val_accuracy: 0.8904\n",
      "Epoch 25/100\n",
      "32/32 [==============================] - 1s 16ms/step - loss: 0.1996 - accuracy: 0.9207 - val_loss: 0.2953 - val_accuracy: 0.8630\n",
      "Epoch 26/100\n",
      "32/32 [==============================] - 1s 16ms/step - loss: 0.2206 - accuracy: 0.9041 - val_loss: 0.2701 - val_accuracy: 0.8676\n",
      "Epoch 27/100\n",
      "32/32 [==============================] - 1s 16ms/step - loss: 0.2182 - accuracy: 0.9159 - val_loss: 0.2529 - val_accuracy: 0.8721\n",
      "Epoch 28/100\n",
      "32/32 [==============================] - 1s 16ms/step - loss: 0.2015 - accuracy: 0.9070 - val_loss: 0.3113 - val_accuracy: 0.8493\n",
      "Epoch 29/100\n",
      "32/32 [==============================] - 1s 16ms/step - loss: 0.2218 - accuracy: 0.9110 - val_loss: 0.2573 - val_accuracy: 0.8721\n",
      "Epoch 30/100\n",
      "32/32 [==============================] - 1s 16ms/step - loss: 0.1928 - accuracy: 0.9227 - val_loss: 0.2477 - val_accuracy: 0.8858\n",
      "Epoch 31/100\n",
      "32/32 [==============================] - 1s 16ms/step - loss: 0.1858 - accuracy: 0.9207 - val_loss: 0.2231 - val_accuracy: 0.8721\n",
      "Epoch 32/100\n",
      "32/32 [==============================] - 1s 16ms/step - loss: 0.2022 - accuracy: 0.9237 - val_loss: 0.2512 - val_accuracy: 0.8904\n",
      "Epoch 33/100\n",
      "32/32 [==============================] - 1s 16ms/step - loss: 0.2067 - accuracy: 0.9188 - val_loss: 0.2445 - val_accuracy: 0.8904\n",
      "Epoch 34/100\n",
      "32/32 [==============================] - 1s 16ms/step - loss: 0.1977 - accuracy: 0.9237 - val_loss: 0.2237 - val_accuracy: 0.8813\n",
      "Epoch 35/100\n",
      "32/32 [==============================] - 1s 16ms/step - loss: 0.1851 - accuracy: 0.9227 - val_loss: 0.2702 - val_accuracy: 0.8950\n",
      "Epoch 36/100\n",
      "32/32 [==============================] - 1s 16ms/step - loss: 0.1878 - accuracy: 0.9237 - val_loss: 0.2868 - val_accuracy: 0.8539\n",
      "Epoch 37/100\n",
      "32/32 [==============================] - 1s 16ms/step - loss: 0.1953 - accuracy: 0.9149 - val_loss: 0.2256 - val_accuracy: 0.8950\n",
      "Epoch 38/100\n",
      "32/32 [==============================] - 1s 16ms/step - loss: 0.1663 - accuracy: 0.9364 - val_loss: 0.2428 - val_accuracy: 0.8721\n",
      "Epoch 39/100\n",
      "32/32 [==============================] - 1s 16ms/step - loss: 0.1736 - accuracy: 0.9305 - val_loss: 0.2441 - val_accuracy: 0.8813\n",
      "Epoch 40/100\n",
      "32/32 [==============================] - 1s 17ms/step - loss: 0.1641 - accuracy: 0.9374 - val_loss: 0.2356 - val_accuracy: 0.8813\n",
      "Epoch 41/100\n",
      "32/32 [==============================] - 1s 16ms/step - loss: 0.1702 - accuracy: 0.9315 - val_loss: 0.2507 - val_accuracy: 0.8721\n",
      "Epoch 42/100\n",
      "32/32 [==============================] - 1s 17ms/step - loss: 0.1644 - accuracy: 0.9364 - val_loss: 0.3045 - val_accuracy: 0.8858\n",
      "Epoch 43/100\n",
      "32/32 [==============================] - 1s 16ms/step - loss: 0.1771 - accuracy: 0.9276 - val_loss: 0.2348 - val_accuracy: 0.8904\n",
      "Epoch 44/100\n",
      "32/32 [==============================] - 1s 16ms/step - loss: 0.1780 - accuracy: 0.9286 - val_loss: 0.2909 - val_accuracy: 0.8630\n",
      "Epoch 45/100\n",
      "32/32 [==============================] - 1s 17ms/step - loss: 0.1893 - accuracy: 0.9178 - val_loss: 0.2320 - val_accuracy: 0.8904\n",
      "Epoch 46/100\n",
      "32/32 [==============================] - 1s 16ms/step - loss: 0.1706 - accuracy: 0.9256 - val_loss: 0.2492 - val_accuracy: 0.8630\n",
      "Epoch 47/100\n",
      "32/32 [==============================] - 1s 16ms/step - loss: 0.1751 - accuracy: 0.9247 - val_loss: 0.2420 - val_accuracy: 0.8813\n",
      "Epoch 48/100\n",
      "32/32 [==============================] - 1s 16ms/step - loss: 0.1772 - accuracy: 0.9315 - val_loss: 0.2404 - val_accuracy: 0.8721\n",
      "Epoch 49/100\n",
      "32/32 [==============================] - 1s 16ms/step - loss: 0.1899 - accuracy: 0.9247 - val_loss: 0.3455 - val_accuracy: 0.8402\n",
      "Epoch 50/100\n",
      "32/32 [==============================] - 1s 17ms/step - loss: 0.1743 - accuracy: 0.9276 - val_loss: 0.2470 - val_accuracy: 0.8858\n",
      "Epoch 51/100\n",
      "32/32 [==============================] - 1s 16ms/step - loss: 0.1521 - accuracy: 0.9403 - val_loss: 0.2601 - val_accuracy: 0.8767\n",
      "Epoch 52/100\n",
      "32/32 [==============================] - 1s 16ms/step - loss: 0.1798 - accuracy: 0.9178 - val_loss: 0.3385 - val_accuracy: 0.8311\n",
      "Epoch 53/100\n",
      "32/32 [==============================] - 1s 17ms/step - loss: 0.1602 - accuracy: 0.9354 - val_loss: 0.2515 - val_accuracy: 0.8813\n",
      "Epoch 54/100\n",
      "32/32 [==============================] - 1s 16ms/step - loss: 0.1371 - accuracy: 0.9432 - val_loss: 0.2761 - val_accuracy: 0.8721\n",
      "Epoch 55/100\n",
      "32/32 [==============================] - 1s 16ms/step - loss: 0.1848 - accuracy: 0.9276 - val_loss: 0.4932 - val_accuracy: 0.8128\n",
      "Epoch 56/100\n",
      "32/32 [==============================] - 1s 16ms/step - loss: 0.2046 - accuracy: 0.9080 - val_loss: 0.2920 - val_accuracy: 0.8813\n",
      "Epoch 57/100\n",
      "32/32 [==============================] - 1s 16ms/step - loss: 0.2178 - accuracy: 0.9198 - val_loss: 0.2865 - val_accuracy: 0.8676\n",
      "Epoch 58/100\n"
     ]
    },
    {
     "name": "stdout",
     "output_type": "stream",
     "text": [
      "32/32 [==============================] - 1s 17ms/step - loss: 0.1492 - accuracy: 0.9452 - val_loss: 0.2592 - val_accuracy: 0.8767\n",
      "Epoch 59/100\n",
      "32/32 [==============================] - 1s 16ms/step - loss: 0.1409 - accuracy: 0.9403 - val_loss: 0.2615 - val_accuracy: 0.8767\n",
      "Epoch 60/100\n",
      "32/32 [==============================] - 1s 16ms/step - loss: 0.1419 - accuracy: 0.9384 - val_loss: 0.3664 - val_accuracy: 0.8447\n",
      "Epoch 61/100\n",
      "32/32 [==============================] - 0s 16ms/step - loss: 0.1501 - accuracy: 0.9393 - val_loss: 0.2697 - val_accuracy: 0.8721\n",
      "Epoch 62/100\n",
      "32/32 [==============================] - 1s 16ms/step - loss: 0.1505 - accuracy: 0.9403 - val_loss: 0.2698 - val_accuracy: 0.8950\n",
      "Epoch 63/100\n",
      "32/32 [==============================] - 1s 16ms/step - loss: 0.1345 - accuracy: 0.9452 - val_loss: 0.2743 - val_accuracy: 0.8813\n",
      "Epoch 64/100\n",
      "32/32 [==============================] - 1s 16ms/step - loss: 0.1600 - accuracy: 0.9393 - val_loss: 0.2711 - val_accuracy: 0.8721\n",
      "Epoch 65/100\n",
      "32/32 [==============================] - 1s 16ms/step - loss: 0.1424 - accuracy: 0.9413 - val_loss: 0.3024 - val_accuracy: 0.8676\n",
      "Epoch 66/100\n",
      "32/32 [==============================] - 1s 16ms/step - loss: 0.1540 - accuracy: 0.9335 - val_loss: 0.2713 - val_accuracy: 0.8813\n",
      "Epoch 67/100\n",
      "32/32 [==============================] - 0s 16ms/step - loss: 0.1618 - accuracy: 0.9472 - val_loss: 0.2947 - val_accuracy: 0.8904\n",
      "Epoch 68/100\n",
      "32/32 [==============================] - 0s 16ms/step - loss: 0.1456 - accuracy: 0.9432 - val_loss: 0.2644 - val_accuracy: 0.8858\n",
      "Epoch 69/100\n",
      "32/32 [==============================] - 0s 16ms/step - loss: 0.1333 - accuracy: 0.9491 - val_loss: 0.3237 - val_accuracy: 0.8630\n",
      "Epoch 70/100\n",
      "32/32 [==============================] - 0s 16ms/step - loss: 0.1965 - accuracy: 0.9276 - val_loss: 0.2384 - val_accuracy: 0.8995\n",
      "Epoch 71/100\n",
      "32/32 [==============================] - 0s 16ms/step - loss: 0.1543 - accuracy: 0.9325 - val_loss: 0.3085 - val_accuracy: 0.8721\n",
      "Epoch 72/100\n",
      "32/32 [==============================] - 0s 16ms/step - loss: 0.1283 - accuracy: 0.9452 - val_loss: 0.2831 - val_accuracy: 0.8584\n",
      "Epoch 73/100\n",
      "32/32 [==============================] - 1s 17ms/step - loss: 0.1200 - accuracy: 0.9579 - val_loss: 0.2769 - val_accuracy: 0.8950\n",
      "Epoch 74/100\n",
      "32/32 [==============================] - 1s 16ms/step - loss: 0.1079 - accuracy: 0.9530 - val_loss: 0.3029 - val_accuracy: 0.8813\n",
      "Epoch 75/100\n",
      "32/32 [==============================] - 0s 16ms/step - loss: 0.1317 - accuracy: 0.9442 - val_loss: 0.2476 - val_accuracy: 0.8630\n",
      "Epoch 76/100\n",
      "32/32 [==============================] - 0s 16ms/step - loss: 0.1560 - accuracy: 0.9237 - val_loss: 0.2682 - val_accuracy: 0.8813\n",
      "Epoch 77/100\n",
      "32/32 [==============================] - 0s 16ms/step - loss: 0.1419 - accuracy: 0.9374 - val_loss: 0.2735 - val_accuracy: 0.8539\n",
      "Epoch 78/100\n",
      "32/32 [==============================] - 0s 15ms/step - loss: 0.1265 - accuracy: 0.9481 - val_loss: 0.3296 - val_accuracy: 0.8813\n",
      "Epoch 79/100\n",
      "32/32 [==============================] - 0s 16ms/step - loss: 0.1160 - accuracy: 0.9560 - val_loss: 0.2755 - val_accuracy: 0.8904\n",
      "Epoch 80/100\n",
      "32/32 [==============================] - 0s 16ms/step - loss: 0.1174 - accuracy: 0.9550 - val_loss: 0.3014 - val_accuracy: 0.8630\n",
      "Epoch 81/100\n",
      "32/32 [==============================] - 0s 16ms/step - loss: 0.1206 - accuracy: 0.9521 - val_loss: 0.3392 - val_accuracy: 0.8767\n",
      "Epoch 82/100\n",
      "32/32 [==============================] - 1s 16ms/step - loss: 0.1433 - accuracy: 0.9354 - val_loss: 0.2664 - val_accuracy: 0.8676\n",
      "Epoch 83/100\n",
      "32/32 [==============================] - 0s 16ms/step - loss: 0.1483 - accuracy: 0.9442 - val_loss: 0.2725 - val_accuracy: 0.8858\n",
      "Epoch 84/100\n",
      "32/32 [==============================] - 1s 16ms/step - loss: 0.1160 - accuracy: 0.9472 - val_loss: 0.3161 - val_accuracy: 0.8813\n",
      "Epoch 85/100\n",
      "32/32 [==============================] - 0s 16ms/step - loss: 0.1039 - accuracy: 0.9540 - val_loss: 0.3672 - val_accuracy: 0.8904\n",
      "Epoch 86/100\n",
      "32/32 [==============================] - 1s 16ms/step - loss: 0.1476 - accuracy: 0.9472 - val_loss: 0.3594 - val_accuracy: 0.8813\n",
      "Epoch 87/100\n",
      "32/32 [==============================] - 1s 16ms/step - loss: 0.1498 - accuracy: 0.9403 - val_loss: 0.3558 - val_accuracy: 0.8630\n",
      "Epoch 88/100\n",
      "32/32 [==============================] - 0s 16ms/step - loss: 0.1194 - accuracy: 0.9481 - val_loss: 0.2577 - val_accuracy: 0.8767\n",
      "Epoch 89/100\n",
      "32/32 [==============================] - 1s 17ms/step - loss: 0.1185 - accuracy: 0.9530 - val_loss: 0.3391 - val_accuracy: 0.8767\n",
      "Epoch 90/100\n",
      "32/32 [==============================] - 1s 16ms/step - loss: 0.1288 - accuracy: 0.9462 - val_loss: 0.3621 - val_accuracy: 0.8493\n",
      "Epoch 91/100\n",
      "32/32 [==============================] - 1s 17ms/step - loss: 0.1312 - accuracy: 0.9481 - val_loss: 0.3634 - val_accuracy: 0.8265\n",
      "Epoch 92/100\n",
      "32/32 [==============================] - 1s 16ms/step - loss: 0.1488 - accuracy: 0.9432 - val_loss: 0.3448 - val_accuracy: 0.8676\n",
      "Epoch 93/100\n",
      "32/32 [==============================] - 1s 16ms/step - loss: 0.1279 - accuracy: 0.9432 - val_loss: 0.2926 - val_accuracy: 0.8767\n",
      "Epoch 94/100\n",
      "32/32 [==============================] - 1s 16ms/step - loss: 0.0966 - accuracy: 0.9579 - val_loss: 0.3416 - val_accuracy: 0.8767\n",
      "Epoch 95/100\n",
      "32/32 [==============================] - 0s 16ms/step - loss: 0.0846 - accuracy: 0.9687 - val_loss: 0.3383 - val_accuracy: 0.8630\n",
      "Epoch 96/100\n",
      "32/32 [==============================] - 0s 16ms/step - loss: 0.0873 - accuracy: 0.9677 - val_loss: 0.3250 - val_accuracy: 0.8858\n",
      "Epoch 97/100\n",
      "32/32 [==============================] - 1s 16ms/step - loss: 0.0833 - accuracy: 0.9658 - val_loss: 0.3643 - val_accuracy: 0.8676\n",
      "Epoch 98/100\n",
      "32/32 [==============================] - 1s 16ms/step - loss: 0.1081 - accuracy: 0.9560 - val_loss: 0.3404 - val_accuracy: 0.8676\n",
      "Epoch 99/100\n",
      "32/32 [==============================] - 1s 16ms/step - loss: 0.1968 - accuracy: 0.9237 - val_loss: 0.2788 - val_accuracy: 0.8447\n",
      "Epoch 100/100\n",
      "32/32 [==============================] - 1s 17ms/step - loss: 0.1164 - accuracy: 0.9550 - val_loss: 0.4170 - val_accuracy: 0.8904\n"
     ]
    }
   ],
   "source": [
    "model_2 = Sequential([\n",
    "    Dense(1000, activation='relu', input_shape=(10,)),\n",
    "    Dense(1000, activation='relu'),\n",
    "    Dense(1000, activation='relu'),\n",
    "    Dense(1000, activation='relu'),\n",
    "    Dense(1, activation='sigmoid'),\n",
    "])\n",
    "model_2.compile(optimizer='adam',\n",
    "              loss='binary_crossentropy',\n",
    "              metrics=['accuracy'])\n",
    "hist_2 = model_2.fit(X_train, Y_train,\n",
    "          batch_size=32, epochs=100,\n",
    "          validation_data=(X_val, Y_val))"
   ]
  },
  {
   "cell_type": "code",
   "execution_count": 34,
   "id": "6877e231",
   "metadata": {},
   "outputs": [
    {
     "data": {
      "image/png": "[encoded data removed]",
      "text/plain": [
       "<Figure size 432x288 with 1 Axes>"
      ]
     },
     "metadata": {
      "needs_background": "light"
     },
     "output_type": "display_data"
    }
   ],
   "source": [
    "plt.plot(hist_2.history['loss'])\n",
    "plt.plot(hist_2.history['val_loss'])\n",
    "plt.title('Model loss')\n",
    "plt.ylabel('Loss')\n",
    "plt.xlabel('Epoch')\n",
    "plt.legend(['Train', 'Val'], loc='upper right')\n",
    "plt.show()"
   ]
  },
  {
   "cell_type": "code",
   "execution_count": 35,
   "id": "25ae5f3a",
   "metadata": {},
   "outputs": [
    {
     "data": {
      "image/png": "[encoded data removed]",
      "text/plain": [
       "<Figure size 432x288 with 1 Axes>"
      ]
     },
     "metadata": {
      "needs_background": "light"
     },
     "output_type": "display_data"
    }
   ],
   "source": [
    "plt.plot(hist_2.history['accuracy'])\n",
    "plt.plot(hist_2.history['val_accuracy'])\n",
    "plt.title('Model accuracy')\n",
    "plt.ylabel('Accuracy')\n",
    "plt.xlabel('Epoch')\n",
    "plt.legend(['Train', 'Val'], loc='lower right')\n",
    "plt.show()"
   ]
  },
  {
   "cell_type": "code",
   "execution_count": 36,
   "id": "b934d3ea",
   "metadata": {},
   "outputs": [],
   "source": [
    "from keras.layers import Dropout\n",
    "from keras import regularizers"
   ]
  },
  {
   "cell_type": "code",
   "execution_count": 37,
   "id": "22b22c3d",
   "metadata": {},
   "outputs": [],
   "source": [
    "model_3 = Sequential([\n",
    "    Dense(1000, activation='relu', kernel_regularizer=regularizers.l2(0.01), input_shape=(10,)),\n",
    "    Dropout(0.3),\n",
    "    Dense(1000, activation='relu', kernel_regularizer=regularizers.l2(0.01)),\n",
    "    Dropout(0.3),\n",
    "    Dense(1000, activation='relu', kernel_regularizer=regularizers.l2(0.01)),\n",
    "    Dropout(0.3),\n",
    "    Dense(1000, activation='relu', kernel_regularizer=regularizers.l2(0.01)),\n",
    "    Dropout(0.3),\n",
    "    Dense(1, activation='sigmoid', kernel_regularizer=regularizers.l2(0.01)),\n",
    "])"
   ]
  },
  {
   "cell_type": "code",
   "execution_count": 38,
   "id": "bf4c64b7",
   "metadata": {},
   "outputs": [],
   "source": [
    "kernel_regularizer=regularizers.l2(0.01)"
   ]
  },
  {
   "cell_type": "code",
   "execution_count": 39,
   "id": "42b0392b",
   "metadata": {},
   "outputs": [
    {
     "data": {
      "text/plain": [
       "(<keras.layers.core.dropout.Dropout at 0x22c2bbd5fd0>,)"
      ]
     },
     "execution_count": 39,
     "metadata": {},
     "output_type": "execute_result"
    }
   ],
   "source": [
    "Dropout(0.3),"
   ]
  },
  {
   "cell_type": "code",
   "execution_count": 40,
   "id": "8006506b",
   "metadata": {},
   "outputs": [
    {
     "name": "stdout",
     "output_type": "stream",
     "text": [
      "Epoch 1/100\n",
      "32/32 [==============================] - 1s 28ms/step - loss: 14.2712 - accuracy: 0.6018 - val_loss: 3.9354 - val_accuracy: 0.8402\n",
      "Epoch 2/100\n",
      "32/32 [==============================] - 1s 24ms/step - loss: 1.6708 - accuracy: 0.8444 - val_loss: 0.7534 - val_accuracy: 0.7854\n",
      "Epoch 3/100\n",
      "32/32 [==============================] - 1s 24ms/step - loss: 0.5900 - accuracy: 0.8542 - val_loss: 0.5488 - val_accuracy: 0.8539\n",
      "Epoch 4/100\n",
      "32/32 [==============================] - 1s 24ms/step - loss: 0.5549 - accuracy: 0.8503 - val_loss: 0.5439 - val_accuracy: 0.8493\n",
      "Epoch 5/100\n",
      "32/32 [==============================] - 1s 26ms/step - loss: 0.4922 - accuracy: 0.8718 - val_loss: 0.5160 - val_accuracy: 0.8584\n",
      "Epoch 6/100\n",
      "32/32 [==============================] - 1s 25ms/step - loss: 0.4786 - accuracy: 0.8699 - val_loss: 0.5092 - val_accuracy: 0.8676\n",
      "Epoch 7/100\n",
      "32/32 [==============================] - 1s 24ms/step - loss: 0.4683 - accuracy: 0.8816 - val_loss: 0.4853 - val_accuracy: 0.8539\n",
      "Epoch 8/100\n",
      "32/32 [==============================] - 1s 24ms/step - loss: 0.4751 - accuracy: 0.8689 - val_loss: 0.4895 - val_accuracy: 0.8676\n",
      "Epoch 9/100\n",
      "32/32 [==============================] - 1s 23ms/step - loss: 0.4859 - accuracy: 0.8669 - val_loss: 0.4993 - val_accuracy: 0.8584\n",
      "Epoch 10/100\n",
      "32/32 [==============================] - 1s 24ms/step - loss: 0.4645 - accuracy: 0.8777 - val_loss: 0.4876 - val_accuracy: 0.8539\n",
      "Epoch 11/100\n",
      "32/32 [==============================] - 1s 23ms/step - loss: 0.4532 - accuracy: 0.8777 - val_loss: 0.4701 - val_accuracy: 0.8539\n",
      "Epoch 12/100\n",
      "32/32 [==============================] - 1s 24ms/step - loss: 0.4445 - accuracy: 0.8875 - val_loss: 0.4840 - val_accuracy: 0.8630\n",
      "Epoch 13/100\n",
      "32/32 [==============================] - 1s 23ms/step - loss: 0.4969 - accuracy: 0.8503 - val_loss: 0.5369 - val_accuracy: 0.8493\n",
      "Epoch 14/100\n",
      "32/32 [==============================] - 1s 24ms/step - loss: 0.4942 - accuracy: 0.8708 - val_loss: 0.4914 - val_accuracy: 0.8676\n",
      "Epoch 15/100\n",
      "32/32 [==============================] - 1s 24ms/step - loss: 0.4424 - accuracy: 0.8845 - val_loss: 0.4657 - val_accuracy: 0.8676\n",
      "Epoch 16/100\n",
      "32/32 [==============================] - 1s 23ms/step - loss: 0.4522 - accuracy: 0.8806 - val_loss: 0.5315 - val_accuracy: 0.8037\n",
      "Epoch 17/100\n",
      "32/32 [==============================] - 1s 24ms/step - loss: 0.4615 - accuracy: 0.8806 - val_loss: 0.4640 - val_accuracy: 0.8630\n",
      "Epoch 18/100\n",
      "32/32 [==============================] - 1s 24ms/step - loss: 0.4498 - accuracy: 0.8836 - val_loss: 0.4584 - val_accuracy: 0.8721\n",
      "Epoch 19/100\n",
      "32/32 [==============================] - 1s 24ms/step - loss: 0.4462 - accuracy: 0.8767 - val_loss: 0.4547 - val_accuracy: 0.8539\n",
      "Epoch 20/100\n",
      "32/32 [==============================] - 1s 23ms/step - loss: 0.4313 - accuracy: 0.8875 - val_loss: 0.4514 - val_accuracy: 0.8447\n",
      "Epoch 21/100\n",
      "32/32 [==============================] - 1s 24ms/step - loss: 0.4437 - accuracy: 0.8806 - val_loss: 0.4573 - val_accuracy: 0.8493\n",
      "Epoch 22/100\n",
      "32/32 [==============================] - 1s 23ms/step - loss: 0.4536 - accuracy: 0.8787 - val_loss: 0.4573 - val_accuracy: 0.8721\n",
      "Epoch 23/100\n",
      "32/32 [==============================] - 1s 24ms/step - loss: 0.4390 - accuracy: 0.8855 - val_loss: 0.4659 - val_accuracy: 0.8630\n",
      "Epoch 24/100\n",
      "32/32 [==============================] - 1s 24ms/step - loss: 0.4474 - accuracy: 0.8865 - val_loss: 0.4910 - val_accuracy: 0.8584\n",
      "Epoch 25/100\n",
      "32/32 [==============================] - 1s 23ms/step - loss: 0.4432 - accuracy: 0.8855 - val_loss: 0.4485 - val_accuracy: 0.8630\n",
      "Epoch 26/100\n",
      "32/32 [==============================] - 1s 24ms/step - loss: 0.4584 - accuracy: 0.8718 - val_loss: 0.5132 - val_accuracy: 0.8311\n",
      "Epoch 27/100\n",
      "32/32 [==============================] - 1s 24ms/step - loss: 0.4520 - accuracy: 0.8620 - val_loss: 0.4480 - val_accuracy: 0.8630\n",
      "Epoch 28/100\n",
      "32/32 [==============================] - 1s 24ms/step - loss: 0.4370 - accuracy: 0.8845 - val_loss: 0.4489 - val_accuracy: 0.8493\n",
      "Epoch 29/100\n",
      "32/32 [==============================] - 1s 23ms/step - loss: 0.4385 - accuracy: 0.8796 - val_loss: 0.4585 - val_accuracy: 0.8584\n",
      "Epoch 30/100\n",
      "32/32 [==============================] - 1s 26ms/step - loss: 0.4459 - accuracy: 0.8865 - val_loss: 0.4485 - val_accuracy: 0.8584\n",
      "Epoch 31/100\n",
      "32/32 [==============================] - 1s 25ms/step - loss: 0.4359 - accuracy: 0.8885 - val_loss: 0.4463 - val_accuracy: 0.8539\n",
      "Epoch 32/100\n",
      "32/32 [==============================] - 1s 27ms/step - loss: 0.4422 - accuracy: 0.8826 - val_loss: 0.4582 - val_accuracy: 0.8721\n",
      "Epoch 33/100\n",
      "32/32 [==============================] - 1s 24ms/step - loss: 0.4457 - accuracy: 0.8796 - val_loss: 0.4442 - val_accuracy: 0.8630\n",
      "Epoch 34/100\n",
      "32/32 [==============================] - 1s 25ms/step - loss: 0.4557 - accuracy: 0.8718 - val_loss: 0.4862 - val_accuracy: 0.8356\n",
      "Epoch 35/100\n",
      "32/32 [==============================] - 1s 23ms/step - loss: 0.4433 - accuracy: 0.8904 - val_loss: 0.4587 - val_accuracy: 0.8584\n",
      "Epoch 36/100\n",
      "32/32 [==============================] - 1s 25ms/step - loss: 0.4370 - accuracy: 0.8816 - val_loss: 0.4796 - val_accuracy: 0.8493\n",
      "Epoch 37/100\n",
      "32/32 [==============================] - 1s 24ms/step - loss: 0.4639 - accuracy: 0.8796 - val_loss: 0.4647 - val_accuracy: 0.8630\n",
      "Epoch 38/100\n",
      "32/32 [==============================] - 1s 24ms/step - loss: 0.4329 - accuracy: 0.8885 - val_loss: 0.4547 - val_accuracy: 0.8676\n",
      "Epoch 39/100\n",
      "32/32 [==============================] - 1s 24ms/step - loss: 0.4308 - accuracy: 0.8894 - val_loss: 0.4432 - val_accuracy: 0.8630\n",
      "Epoch 40/100\n",
      "32/32 [==============================] - 1s 24ms/step - loss: 0.4404 - accuracy: 0.8679 - val_loss: 0.4605 - val_accuracy: 0.8676\n",
      "Epoch 41/100\n",
      "32/32 [==============================] - 1s 25ms/step - loss: 0.4452 - accuracy: 0.8796 - val_loss: 0.4439 - val_accuracy: 0.8584\n",
      "Epoch 42/100\n",
      "32/32 [==============================] - 1s 24ms/step - loss: 0.4197 - accuracy: 0.8885 - val_loss: 0.4433 - val_accuracy: 0.8584\n",
      "Epoch 43/100\n",
      "32/32 [==============================] - 1s 24ms/step - loss: 0.4256 - accuracy: 0.8924 - val_loss: 0.4456 - val_accuracy: 0.8584\n",
      "Epoch 44/100\n",
      "32/32 [==============================] - 1s 24ms/step - loss: 0.4447 - accuracy: 0.8865 - val_loss: 0.4469 - val_accuracy: 0.8584\n",
      "Epoch 45/100\n",
      "32/32 [==============================] - 1s 24ms/step - loss: 0.4357 - accuracy: 0.8806 - val_loss: 0.4465 - val_accuracy: 0.8630\n",
      "Epoch 46/100\n",
      "32/32 [==============================] - 1s 24ms/step - loss: 0.4504 - accuracy: 0.8826 - val_loss: 0.4483 - val_accuracy: 0.8676\n",
      "Epoch 47/100\n",
      "32/32 [==============================] - 1s 24ms/step - loss: 0.4351 - accuracy: 0.8836 - val_loss: 0.4409 - val_accuracy: 0.8630\n",
      "Epoch 48/100\n",
      "32/32 [==============================] - 1s 24ms/step - loss: 0.4336 - accuracy: 0.8855 - val_loss: 0.4497 - val_accuracy: 0.8630\n",
      "Epoch 49/100\n",
      "32/32 [==============================] - 1s 23ms/step - loss: 0.4323 - accuracy: 0.8885 - val_loss: 0.4454 - val_accuracy: 0.8539\n",
      "Epoch 50/100\n",
      "32/32 [==============================] - 1s 24ms/step - loss: 0.4367 - accuracy: 0.8836 - val_loss: 0.4513 - val_accuracy: 0.8493\n",
      "Epoch 51/100\n",
      "32/32 [==============================] - 1s 23ms/step - loss: 0.4303 - accuracy: 0.8894 - val_loss: 0.4407 - val_accuracy: 0.8630\n",
      "Epoch 52/100\n",
      "32/32 [==============================] - 1s 24ms/step - loss: 0.4347 - accuracy: 0.8855 - val_loss: 0.4400 - val_accuracy: 0.8630\n",
      "Epoch 53/100\n",
      "32/32 [==============================] - 1s 24ms/step - loss: 0.4457 - accuracy: 0.8806 - val_loss: 0.4486 - val_accuracy: 0.8447\n",
      "Epoch 54/100\n",
      "32/32 [==============================] - 1s 26ms/step - loss: 0.4372 - accuracy: 0.8748 - val_loss: 0.4470 - val_accuracy: 0.8493\n",
      "Epoch 55/100\n",
      "32/32 [==============================] - 1s 25ms/step - loss: 0.4333 - accuracy: 0.8894 - val_loss: 0.4422 - val_accuracy: 0.8630\n",
      "Epoch 56/100\n",
      "32/32 [==============================] - 1s 25ms/step - loss: 0.4378 - accuracy: 0.8787 - val_loss: 0.4560 - val_accuracy: 0.8584\n",
      "Epoch 57/100\n",
      "32/32 [==============================] - 1s 25ms/step - loss: 0.4404 - accuracy: 0.8738 - val_loss: 0.4468 - val_accuracy: 0.8584\n",
      "Epoch 58/100\n"
     ]
    },
    {
     "name": "stdout",
     "output_type": "stream",
     "text": [
      "32/32 [==============================] - 1s 24ms/step - loss: 0.4264 - accuracy: 0.8963 - val_loss: 0.4561 - val_accuracy: 0.8584\n",
      "Epoch 59/100\n",
      "32/32 [==============================] - 1s 25ms/step - loss: 0.4295 - accuracy: 0.8865 - val_loss: 0.4493 - val_accuracy: 0.8493\n",
      "Epoch 60/100\n",
      "32/32 [==============================] - 1s 23ms/step - loss: 0.4360 - accuracy: 0.8933 - val_loss: 0.4963 - val_accuracy: 0.8402\n",
      "Epoch 61/100\n",
      "32/32 [==============================] - 1s 23ms/step - loss: 0.4526 - accuracy: 0.8787 - val_loss: 0.4460 - val_accuracy: 0.8539\n",
      "Epoch 62/100\n",
      "32/32 [==============================] - 1s 25ms/step - loss: 0.4367 - accuracy: 0.8816 - val_loss: 0.4648 - val_accuracy: 0.8584\n",
      "Epoch 63/100\n",
      "32/32 [==============================] - 1s 25ms/step - loss: 0.4293 - accuracy: 0.8904 - val_loss: 0.4623 - val_accuracy: 0.8584\n",
      "Epoch 64/100\n",
      "32/32 [==============================] - 1s 24ms/step - loss: 0.4368 - accuracy: 0.8836 - val_loss: 0.4844 - val_accuracy: 0.8356\n",
      "Epoch 65/100\n",
      "32/32 [==============================] - 1s 25ms/step - loss: 0.4445 - accuracy: 0.8757 - val_loss: 0.5329 - val_accuracy: 0.8174\n",
      "Epoch 66/100\n",
      "32/32 [==============================] - 1s 25ms/step - loss: 0.4477 - accuracy: 0.8806 - val_loss: 0.4606 - val_accuracy: 0.8584\n",
      "Epoch 67/100\n",
      "32/32 [==============================] - 1s 25ms/step - loss: 0.4432 - accuracy: 0.8826 - val_loss: 0.4466 - val_accuracy: 0.8676\n",
      "Epoch 68/100\n",
      "32/32 [==============================] - 1s 25ms/step - loss: 0.4404 - accuracy: 0.8787 - val_loss: 0.4660 - val_accuracy: 0.8539\n",
      "Epoch 69/100\n",
      "32/32 [==============================] - 1s 24ms/step - loss: 0.4567 - accuracy: 0.8699 - val_loss: 0.4522 - val_accuracy: 0.8676\n",
      "Epoch 70/100\n",
      "32/32 [==============================] - 1s 25ms/step - loss: 0.4423 - accuracy: 0.8816 - val_loss: 0.4865 - val_accuracy: 0.8630\n",
      "Epoch 71/100\n",
      "32/32 [==============================] - 1s 26ms/step - loss: 0.4326 - accuracy: 0.8914 - val_loss: 0.4406 - val_accuracy: 0.8630\n",
      "Epoch 72/100\n",
      "32/32 [==============================] - 1s 26ms/step - loss: 0.4500 - accuracy: 0.8718 - val_loss: 0.5321 - val_accuracy: 0.8493\n",
      "Epoch 73/100\n",
      "32/32 [==============================] - 1s 24ms/step - loss: 0.4718 - accuracy: 0.8748 - val_loss: 0.4855 - val_accuracy: 0.8630\n",
      "Epoch 74/100\n",
      "32/32 [==============================] - 1s 24ms/step - loss: 0.4348 - accuracy: 0.8826 - val_loss: 0.4552 - val_accuracy: 0.8584\n",
      "Epoch 75/100\n",
      "32/32 [==============================] - 1s 25ms/step - loss: 0.4291 - accuracy: 0.8826 - val_loss: 0.4448 - val_accuracy: 0.8630\n",
      "Epoch 76/100\n",
      "32/32 [==============================] - 1s 24ms/step - loss: 0.4413 - accuracy: 0.8767 - val_loss: 0.4543 - val_accuracy: 0.8539\n",
      "Epoch 77/100\n",
      "32/32 [==============================] - 1s 24ms/step - loss: 0.4237 - accuracy: 0.8885 - val_loss: 0.4493 - val_accuracy: 0.8630\n",
      "Epoch 78/100\n",
      "32/32 [==============================] - 1s 24ms/step - loss: 0.4438 - accuracy: 0.8826 - val_loss: 0.4432 - val_accuracy: 0.8630\n",
      "Epoch 79/100\n",
      "32/32 [==============================] - 1s 25ms/step - loss: 0.4388 - accuracy: 0.8845 - val_loss: 0.4723 - val_accuracy: 0.8584\n",
      "Epoch 80/100\n",
      "32/32 [==============================] - 1s 24ms/step - loss: 0.4250 - accuracy: 0.8914 - val_loss: 0.4829 - val_accuracy: 0.8630\n",
      "Epoch 81/100\n",
      "32/32 [==============================] - 1s 23ms/step - loss: 0.4311 - accuracy: 0.8914 - val_loss: 0.4454 - val_accuracy: 0.8721\n",
      "Epoch 82/100\n",
      "32/32 [==============================] - 1s 24ms/step - loss: 0.4311 - accuracy: 0.8894 - val_loss: 0.4423 - val_accuracy: 0.8584\n",
      "Epoch 83/100\n",
      "32/32 [==============================] - 1s 23ms/step - loss: 0.4316 - accuracy: 0.8865 - val_loss: 0.4416 - val_accuracy: 0.8676\n",
      "Epoch 84/100\n",
      "32/32 [==============================] - 1s 23ms/step - loss: 0.4279 - accuracy: 0.8953 - val_loss: 0.4510 - val_accuracy: 0.8447\n",
      "Epoch 85/100\n",
      "32/32 [==============================] - 1s 23ms/step - loss: 0.4330 - accuracy: 0.8845 - val_loss: 0.4420 - val_accuracy: 0.8584\n",
      "Epoch 86/100\n",
      "32/32 [==============================] - 1s 24ms/step - loss: 0.4411 - accuracy: 0.8904 - val_loss: 0.4412 - val_accuracy: 0.8630\n",
      "Epoch 87/100\n",
      "32/32 [==============================] - 1s 23ms/step - loss: 0.4457 - accuracy: 0.8875 - val_loss: 0.4430 - val_accuracy: 0.8584\n",
      "Epoch 88/100\n",
      "32/32 [==============================] - 1s 23ms/step - loss: 0.4230 - accuracy: 0.8885 - val_loss: 0.4429 - val_accuracy: 0.8630\n",
      "Epoch 89/100\n",
      "32/32 [==============================] - 1s 23ms/step - loss: 0.4208 - accuracy: 0.8943 - val_loss: 0.4441 - val_accuracy: 0.8630\n",
      "Epoch 90/100\n",
      "32/32 [==============================] - 1s 23ms/step - loss: 0.4353 - accuracy: 0.8904 - val_loss: 0.4574 - val_accuracy: 0.8584\n",
      "Epoch 91/100\n",
      "32/32 [==============================] - 1s 24ms/step - loss: 0.4257 - accuracy: 0.8943 - val_loss: 0.4393 - val_accuracy: 0.8584\n",
      "Epoch 92/100\n",
      "32/32 [==============================] - 1s 23ms/step - loss: 0.4244 - accuracy: 0.8855 - val_loss: 0.4574 - val_accuracy: 0.8584\n",
      "Epoch 93/100\n",
      "32/32 [==============================] - 1s 23ms/step - loss: 0.4493 - accuracy: 0.8699 - val_loss: 0.4529 - val_accuracy: 0.8630\n",
      "Epoch 94/100\n",
      "32/32 [==============================] - 1s 23ms/step - loss: 0.4396 - accuracy: 0.8757 - val_loss: 0.4445 - val_accuracy: 0.8447\n",
      "Epoch 95/100\n",
      "32/32 [==============================] - 1s 24ms/step - loss: 0.4237 - accuracy: 0.8933 - val_loss: 0.4473 - val_accuracy: 0.8493\n",
      "Epoch 96/100\n",
      "32/32 [==============================] - 1s 24ms/step - loss: 0.4276 - accuracy: 0.8894 - val_loss: 0.4706 - val_accuracy: 0.8630\n",
      "Epoch 97/100\n",
      "32/32 [==============================] - 1s 23ms/step - loss: 0.4459 - accuracy: 0.8943 - val_loss: 0.4593 - val_accuracy: 0.8584\n",
      "Epoch 98/100\n",
      "32/32 [==============================] - 1s 24ms/step - loss: 0.4231 - accuracy: 0.8933 - val_loss: 0.4423 - val_accuracy: 0.8630\n",
      "Epoch 99/100\n",
      "32/32 [==============================] - 1s 24ms/step - loss: 0.4489 - accuracy: 0.8748 - val_loss: 0.4658 - val_accuracy: 0.8584\n",
      "Epoch 100/100\n",
      "32/32 [==============================] - 1s 24ms/step - loss: 0.4349 - accuracy: 0.8806 - val_loss: 0.5793 - val_accuracy: 0.7854\n"
     ]
    }
   ],
   "source": [
    "model_3.compile(optimizer='adam',\n",
    "              loss='binary_crossentropy',\n",
    "              metrics=['accuracy'])\n",
    "hist_3 = model_3.fit(X_train, Y_train,\n",
    "          batch_size=32, epochs=100,\n",
    "          validation_data=(X_val, Y_val))"
   ]
  },
  {
   "cell_type": "code",
   "execution_count": 41,
   "id": "fe5b1563",
   "metadata": {},
   "outputs": [
    {
     "data": {
      "image/png": "[encoded data removed]",
      "text/plain": [
       "<Figure size 432x288 with 1 Axes>"
      ]
     },
     "metadata": {
      "needs_background": "light"
     },
     "output_type": "display_data"
    }
   ],
   "source": [
    "plt.plot(hist_3.history['loss'])\n",
    "plt.plot(hist_3.history['val_loss'])\n",
    "plt.title('Model loss')\n",
    "plt.ylabel('Loss')\n",
    "plt.xlabel('Epoch')\n",
    "plt.legend(['Train', 'Val'], loc='upper right')\n",
    "plt.ylim(top=1.2, bottom=0)\n",
    "plt.show()"
   ]
  },
  {
   "cell_type": "code",
   "execution_count": 42,
   "id": "67d5480e",
   "metadata": {},
   "outputs": [
    {
     "data": {
      "image/png": "[encoded data removed]",
      "text/plain": [
       "<Figure size 432x288 with 1 Axes>"
      ]
     },
     "metadata": {
      "needs_background": "light"
     },
     "output_type": "display_data"
    }
   ],
   "source": [
    "plt.plot(hist_3.history['accuracy'])\n",
    "plt.plot(hist_3.history['val_accuracy'])\n",
    "plt.title('Model accuracy')\n",
    "plt.ylabel('Accuracy')\n",
    "plt.xlabel('Epoch')\n",
    "plt.legend(['Train', 'Val'], loc='lower right')\n",
    "plt.show()"
   ]
  },
  {
   "cell_type": "code",
   "execution_count": null,
   "id": "6b46b99e",
   "metadata": {},
   "outputs": [],
   "source": []
  }
 ],
 "metadata": {
  "kernelspec": {
   "display_name": "Python 3 (ipykernel)",
   "language": "python",
   "name": "python3"
  },
  "language_info": {
   "codemirror_mode": {
    "name": "ipython",
    "version": 3
   },
   "file_extension": ".py",
   "mimetype": "text/x-python",
   "name": "python",
   "nbconvert_exporter": "python",
   "pygments_lexer": "ipython3",
   "version": "3.9.5"
  }
 },
 "nbformat": 4,
 "nbformat_minor": 5
}
